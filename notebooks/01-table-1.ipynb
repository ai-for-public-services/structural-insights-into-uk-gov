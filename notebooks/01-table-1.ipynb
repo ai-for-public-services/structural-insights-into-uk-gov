{
 "cells": [
  {
   "cell_type": "markdown",
   "id": "694dbd03-41fa-412d-9d9b-cb718c179a3d",
   "metadata": {},
   "source": [
    "## Imports"
   ]
  },
  {
   "cell_type": "code",
   "execution_count": 1,
   "id": "d4d1700a-4794-46a3-a452-3614ec54b643",
   "metadata": {
    "tags": []
   },
   "outputs": [],
   "source": [
    "from pathlib import Path\n",
    "import pandas as pd\n",
    "import seaborn as sns\n",
    "import matplotlib.pyplot as plt\n",
    "from matplotlib import rcParams"
   ]
  },
  {
   "cell_type": "markdown",
   "id": "dc48df6c-e7db-4c4f-99bd-0f2cff333dae",
   "metadata": {},
   "source": [
    "## Table 1A"
   ]
  },
  {
   "cell_type": "code",
   "execution_count": 85,
   "id": "f95b01ba-fead-409c-af2c-ff0c4b2e28f2",
   "metadata": {},
   "outputs": [],
   "source": [
    "d = analysis_df.loc[analysis_df['historical_service_equiv'].notnull()]"
   ]
  },
  {
   "cell_type": "code",
   "execution_count": 89,
   "id": "4ed4e33e-94f5-46f8-8b8a-d9409d2b9c3a",
   "metadata": {},
   "outputs": [
    {
     "data": {
      "text/plain": [
       "337"
      ]
     },
     "execution_count": 89,
     "metadata": {},
     "output_type": "execute_result"
    }
   ],
   "source": [
    "analysis_df.unique_clicks_2022.notnull().sum()"
   ]
  },
  {
   "cell_type": "code",
   "execution_count": 78,
   "id": "16248d29-7d72-4a77-8fa7-a2f979c8bcb6",
   "metadata": {},
   "outputs": [],
   "source": [
    "# Load dataframe\n",
    "analysis_df = pd.read_excel('../data/processed/202308-services-list-processed.xlsx')\n",
    "\n",
    "# Set style and context\n",
    "sns.set(style=\"ticks\")\n",
    "sns.set_context(\"notebook\", rc={\"axes.labelsize\": 17, \"xtick.labelsize\": 17, \"ytick.labelsize\": 17})\n",
    "\n",
    "# Create a new DataFrame table_df with 10 rows and empty strings\n",
    "table_df = pd.DataFrame({'Organisation': [''] * 10, 'Topic': [''] * 10, 'Service type': [''] * 10})\n",
    "\n",
    "# Step 2: Fill the rows of the column 'Organisation'\n",
    "organisations_counts = analysis_df['organisation'].value_counts().head(10)\n",
    "table_df['Organisation'][:len(organisations_counts)] = (\n",
    "    organisations_counts.index + \" (n=\" + organisations_counts.astype(str) + \")\"\n",
    ")\n",
    "\n",
    "# Step 3: Fill the rows of the column 'Topic'\n",
    "topics_counts = analysis_df['topic'].value_counts().head(10)\n",
    "table_df['Topic'][:len(topics_counts)] = (\n",
    "    topics_counts.index + \" (n=\" + topics_counts.astype(str) + \")\"\n",
    ")\n",
    "\n",
    "# Step 4: Fill the rows of the column 'Service type'\n",
    "service_types_counts = analysis_df['service_type'].value_counts().head(10)\n",
    "table_df['Service type'][:len(service_types_counts)] = (\n",
    "    service_types_counts.index + \" (n=\" + service_types_counts.astype(str) + \")\"\n",
    ")"
   ]
  },
  {
   "cell_type": "code",
   "execution_count": 63,
   "id": "a4532e34-16a6-4bdf-973c-9d94ea4a6e35",
   "metadata": {},
   "outputs": [
    {
     "name": "stdout",
     "output_type": "stream",
     "text": [
      "\\begin{table}[h]\n",
      "\\centering\n",
      "\\renewcommand{\\arraystretch}{1.2} % Adjust row spacing\n",
      "\\resizebox{\\textwidth}{!}{\n",
      "\\begin{tabular}{lcl}\n",
      "\\begin{tabular}{lll}\n",
      "\\hline\n",
      "                                                 Organisation &                                 Topic &                                Service type \\\\\n",
      "\\hline\n",
      " Department for Education (n=30)                              & Business and self-employed (n=63)     & Requesting information (n=139)              \\\\\n",
      " HM Revenue and Customs (n=30)                                & Driving and transport (n=47)          & Providing information (n=81)                \\\\\n",
      " Department for Work and Pensions (n=27)                      & Education, training and skills (n=44) & Registering (n=50)                          \\\\\n",
      " Home Office (n=25)                                           & Environment and countryside (n=34)    & Requesting a licence or consent  (n=47)     \\\\\n",
      " Environment Agency (n=18)                                    & Crime, justice and the law (n=28)     & Requesting benefit payments or loans (n=40) \\\\\n",
      " Department for Business, Energy & Industrial Strategy (n=18) & Money and tax (n=28)                  & Making a payment (n=11)                     \\\\\n",
      " Department for Environment, Food & Rural Affairs (n=17)      & Benefits (n=19)                       & Amending/deleting information (n=8)         \\\\\n",
      " Ministry of Justice (n=17)                                   & Housing and local services (n=17)     & Booking events and resources (n=1)          \\\\\n",
      " Driver and Vehicle Standards Agency (n=16)                   & Visas and immigration (n=17)          &                                             \\\\\n",
      " Driver and Vehicle Licensing Agency (n=16)                   & Coronavirus (COVID-19) (n=16)         &                                             \\\\\n",
      "\\hline\n",
      "\\end{tabular}\n",
      "\\end{tabular}\n",
      "}\n",
      "\\end{table}\n"
     ]
    }
   ],
   "source": [
    "from tabulate import tabulate\n",
    "\n",
    "# If you want to print with adjusted formatting, you can use the following code:\n",
    "latex_table = tabulate(table_df, headers='keys', tablefmt='latex_raw', showindex=False, colalign=('l', 'c', 'l'), stralign='left', numalign='center')\n",
    "\n",
    "# Add the adjustments to the LaTeX table\n",
    "latex_table_adjusted = \"\\\\begin{table}[h]\\n\\\\centering\\n\\\\renewcommand{\\\\arraystretch}{1.2} % Adjust row spacing\\n\\\\resizebox{\\\\textwidth}{!}{\\n\\\\begin{tabular}{lcl}\\n\" + latex_table + \"\\n\\\\end{tabular}\\n}\\n\\\\end{table}\"\n",
    "\n",
    "# Print the LaTeX table with adjusted formatting\n",
    "print(latex_table_adjusted)"
   ]
  },
  {
   "cell_type": "markdown",
   "id": "8513894f-4a7f-4885-afae-0623355e67a6",
   "metadata": {},
   "source": [
    "## Table S1A"
   ]
  },
  {
   "cell_type": "code",
   "execution_count": 64,
   "id": "85cc3286-d7d8-4866-aab5-df83c8d743d5",
   "metadata": {},
   "outputs": [],
   "source": [
    "# Load dataframe\n",
    "analysis_df = pd.read_excel('../data/processed/202308-services-list-processed.xlsx')\n",
    "\n",
    "# Set style and context\n",
    "sns.set(style=\"ticks\")\n",
    "sns.set_context(\"notebook\", rc={\"axes.labelsize\": 17, \"xtick.labelsize\": 17, \"ytick.labelsize\": 17})\n",
    "\n",
    "# Create a new DataFrame table_df with 10 rows and empty strings\n",
    "table_s_df = pd.DataFrame({'Organisation': [''] * 58, 'Topic': [''] * 58, 'Service type': [''] * 58})\n",
    "\n",
    "# Step 2: Fill the rows of the column 'Organisation'\n",
    "organisations_counts = analysis_df['organisation'].value_counts()\n",
    "table_s_df['Organisation'][:len(organisations_counts)] = (\n",
    "    organisations_counts.index + \" (n=\" + organisations_counts.astype(str) + \")\"\n",
    ")\n",
    "\n",
    "# Step 3: Fill the rows of the column 'Topic'\n",
    "topics_counts = analysis_df['topic'].value_counts()\n",
    "table_s_df['Topic'][:len(topics_counts)] = (\n",
    "    topics_counts.index + \" (n=\" + topics_counts.astype(str) + \")\"\n",
    ")\n",
    "\n",
    "# Step 4: Fill the rows of the column 'Service type'\n",
    "service_types_counts = analysis_df['service_type'].value_counts()\n",
    "table_s_df['Service type'][:len(service_types_counts)] = (\n",
    "    service_types_counts.index + \" (n=\" + service_types_counts.astype(str) + \")\"\n",
    ")"
   ]
  },
  {
   "cell_type": "code",
   "execution_count": 65,
   "id": "c428a033-1245-4a23-a56e-8fc4c0fa26f0",
   "metadata": {},
   "outputs": [
    {
     "name": "stdout",
     "output_type": "stream",
     "text": [
      "\\begin{table}[h]\n",
      "\\centering\n",
      "\\renewcommand{\\arraystretch}{1.2} % Adjust row spacing\n",
      "\\resizebox{\\textwidth}{!}{\n",
      "\\begin{tabular}{lcl}\n",
      "\\begin{tabular}{lll}\n",
      "\\hline\n",
      "                                                 Organisation &                                      Topic &                                Service type \\\\\n",
      "\\hline\n",
      " Department for Education (n=30)                              & Business and self-employed (n=63)          & Requesting information (n=139)              \\\\\n",
      " HM Revenue and Customs (n=30)                                & Driving and transport (n=47)               & Providing information (n=81)                \\\\\n",
      " Department for Work and Pensions (n=27)                      & Education, training and skills (n=44)      & Registering (n=50)                          \\\\\n",
      " Home Office (n=25)                                           & Environment and countryside (n=34)         & Requesting a licence or consent  (n=47)     \\\\\n",
      " Environment Agency (n=18)                                    & Crime, justice and the law (n=28)          & Requesting benefit payments or loans (n=40) \\\\\n",
      " Department for Business, Energy & Industrial Strategy (n=18) & Money and tax (n=28)                       & Making a payment (n=11)                     \\\\\n",
      " Department for Environment, Food & Rural Affairs (n=17)      & Benefits (n=19)                            & Amending/deleting information (n=8)         \\\\\n",
      " Ministry of Justice (n=17)                                   & Housing and local services (n=17)          & Booking events and resources (n=1)          \\\\\n",
      " Driver and Vehicle Standards Agency (n=16)                   & Visas and immigration (n=17)               &                                             \\\\\n",
      " Driver and Vehicle Licensing Agency (n=16)                   & Coronavirus (COVID-19) (n=16)              &                                             \\\\\n",
      " Foreign, Commonwealth & Development Office (n=12)            & Passports, travel and living abroad (n=14) &                                             \\\\\n",
      " Cabinet Office (n=11)                                        & Citizenship and living in the UK (n=13)    &                                             \\\\\n",
      " Ofsted (n=9)                                                 & Working, jobs and pensions (n=13)          &                                             \\\\\n",
      " Education and Skills Funding Agency (n=9)                    & Childcare and parenting (n=12)             &                                             \\\\\n",
      " Department for Levelling Up, Housing & Communities (n=9)     & Births, deaths, marriages and care (n=9)   &                                             \\\\\n",
      " Department for Transport (n=8)                               & Employing people (n=2)                     &                                             \\\\\n",
      " HM Courts & Tribunals Service (n=7)                          & National security (n=1)                    &                                             \\\\\n",
      " Companies House (n=7)                                        &                                            &                                             \\\\\n",
      " Intellectual Property Office (n=7)                           &                                            &                                             \\\\\n",
      " UK Visas and Immigration (n=6)                               &                                            &                                             \\\\\n",
      " Department for International Trade (n=6)                     &                                            &                                             \\\\\n",
      " Insolvency Service (n=6)                                     &                                            &                                             \\\\\n",
      " Department of Health and Social Care (n=5)                   &                                            &                                             \\\\\n",
      " Land Registry (n=4)                                          &                                            &                                             \\\\\n",
      " NHS Digital (n=4)                                            &                                            &                                             \\\\\n",
      " Office for Zero Emission Vehicles (n=4)                      &                                            &                                             \\\\\n",
      " Government Digital Service (n=3)                             &                                            &                                             \\\\\n",
      " Animal and Plant Health Agency (n=3)                         &                                            &                                             \\\\\n",
      " Student Loans Company (n=3)                                  &                                            &                                             \\\\\n",
      " The Charity Commission (n=3)                                 &                                            &                                             \\\\\n",
      " Maritime and Coastguard Agency (n=3)                         &                                            &                                             \\\\\n",
      " Ministry of Defence (n=2)                                    &                                            &                                             \\\\\n",
      " Marine Management Organisation (n=2)                         &                                            &                                             \\\\\n",
      " Office of the Public Guardian (n=2)                          &                                            &                                             \\\\\n",
      " Legal Aid Agency (n=2)                                       &                                            &                                             \\\\\n",
      " Valuation Office Agency (n=2)                                &                                            &                                             \\\\\n",
      " Office for Product Safety and Standards (n=2)                &                                            &                                             \\\\\n",
      " Ofqual (n=2)                                                 &                                            &                                             \\\\\n",
      " HM Passport Office (n=1)                                     &                                            &                                             \\\\\n",
      " General Register Office (n=1)                                &                                            &                                             \\\\\n",
      " Government Equalities Office (n=1)                           &                                            &                                             \\\\\n",
      " Civil Service Fast Stream (n=1)                              &                                            &                                             \\\\\n",
      " Education and Skills Funding Agency (n=1)                    &                                            &                                             \\\\\n",
      " Public Health England (n=1)                                  &                                            &                                             \\\\\n",
      " NHS Business Services Authority (n=1)                        &                                            &                                             \\\\\n",
      " Crown Commercial Service (n=1)                               &                                            &                                             \\\\\n",
      " Highways England (n=1)                                       &                                            &                                             \\\\\n",
      " Office for National Statistics (n=1)                         &                                            &                                             \\\\\n",
      " Teaching Regulation Agency (n=1)                             &                                            &                                             \\\\\n",
      " Standards and Testing Agency (n=1)                           &                                            &                                             \\\\\n",
      " Care Quality Commissions (n=1)                               &                                            &                                             \\\\\n",
      " Civil Aviation Authority (n=1)                               &                                            &                                             \\\\\n",
      " UK Export Finance (n=1)                                      &                                            &                                             \\\\\n",
      " Department for Digital, Culture, Media and Sport (n=1)       &                                            &                                             \\\\\n",
      " Innovate UK (n=1)                                            &                                            &                                             \\\\\n",
      " UK Trade & Investment (n=1)                                  &                                            &                                             \\\\\n",
      " Medicines and Healthcare products Regulatory Agency  (n=1)   &                                            &                                             \\\\\n",
      " Disclosure and Barring Service (n=1)                         &                                            &                                             \\\\\n",
      "\\hline\n",
      "\\end{tabular}\n",
      "\\end{tabular}\n",
      "}\n",
      "\\end{table}\n"
     ]
    }
   ],
   "source": [
    "# If you want to print with adjusted formatting, you can use the following code:\n",
    "latex_table = tabulate(table_s_df, headers='keys', tablefmt='latex_raw', showindex=False, colalign=('l', 'c', 'l'), stralign='left', numalign='center')\n",
    "\n",
    "# Add the adjustments to the LaTeX table\n",
    "latex_table_adjusted = \"\\\\begin{table}[h]\\n\\\\centering\\n\\\\renewcommand{\\\\arraystretch}{1.2} % Adjust row spacing\\n\\\\resizebox{\\\\textwidth}{!}{\\n\\\\begin{tabular}{lcl}\\n\" + latex_table + \"\\n\\\\end{tabular}\\n}\\n\\\\end{table}\"\n",
    "\n",
    "# Print the LaTeX table with adjusted formatting\n",
    "print(latex_table_adjusted)"
   ]
  }
 ],
 "metadata": {
  "kernelspec": {
   "display_name": "Python 3 (ipykernel)",
   "language": "python",
   "name": "python3"
  },
  "language_info": {
   "codemirror_mode": {
    "name": "ipython",
    "version": 3
   },
   "file_extension": ".py",
   "mimetype": "text/x-python",
   "name": "python",
   "nbconvert_exporter": "python",
   "pygments_lexer": "ipython3",
   "version": "3.11.5"
  }
 },
 "nbformat": 4,
 "nbformat_minor": 5
}
