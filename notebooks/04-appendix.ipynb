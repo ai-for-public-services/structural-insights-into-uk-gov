{
 "cells": [
  {
   "cell_type": "markdown",
   "id": "81857f3e-9e9c-4f12-93aa-55100657ca11",
   "metadata": {},
   "source": [
    "Figures to add to appendix:\n",
    "1. Redo Fig 2b and show absoloute time on x-axis (use log scale for y-axis)\n",
    "2. Show key services driving changes in Fig 2b\n",
    "3. Show cumulative total of total visits to GOVUK service webpages in 2022"
   ]
  }
 ],
 "metadata": {
  "kernelspec": {
   "display_name": "Python 3 (ipykernel)",
   "language": "python",
   "name": "python3"
  },
  "language_info": {
   "codemirror_mode": {
    "name": "ipython",
    "version": 3
   },
   "file_extension": ".py",
   "mimetype": "text/x-python",
   "name": "python",
   "nbconvert_exporter": "python",
   "pygments_lexer": "ipython3",
   "version": "3.11.5"
  }
 },
 "nbformat": 4,
 "nbformat_minor": 5
}
