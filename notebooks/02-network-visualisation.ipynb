{
 "cells": [
  {
   "cell_type": "markdown",
   "id": "4006a058-d788-43e9-93ce-e4fcd4cd8939",
   "metadata": {
    "tags": []
   },
   "source": [
    "## Network visualizations"
   ]
  },
  {
   "cell_type": "markdown",
   "id": "abfb2c53-a59c-471c-960e-e0993986459a",
   "metadata": {},
   "source": [
    "### Templates\n",
    "- https://www.pnas.org/doi/full/10.1073/pnas.1803228115\n",
    "- https://3f53fadb-b5ae-402a-b2a4-47bfe60ade08.usrfiles.com/ugd/3f53fa_fd758b705bc84434892bcb6b42ac278f.pdf\n"
   ]
  },
  {
   "cell_type": "markdown",
   "id": "9a467e5d-055d-467c-ad48-4857282ecc80",
   "metadata": {},
   "source": [
    "> Hierarchal network model where size of department is operationalized with forms + headcount + services + share of gov.uk domains and link to gov.uk node is number of page visits\""
   ]
  },
  {
   "cell_type": "markdown",
   "id": "620bc3df-4f59-49d2-a1ba-54019db241bf",
   "metadata": {},
   "source": [
    "### Potential variables\n",
    "**Nodes:**\n",
    "- GOV.UK\n",
    "- Central government departments\n",
    "\n",
    "**Node size**\n",
    "- Number of services\n",
    "- Number of forms\n",
    "\n",
    "**Edge:**\n",
    "- Topics\n",
    "- Verb\n",
    "\n",
    "**Edge size**: \n",
    "- Number of page visits\n",
    "- Number of domains"
   ]
  },
  {
   "cell_type": "markdown",
   "id": "0b2a8e86-f132-4691-bdcc-ee065567a54d",
   "metadata": {},
   "source": [
    "### Building a Scale of Government Map"
   ]
  },
  {
   "cell_type": "markdown",
   "id": "39afc70c-ae24-4453-ad6f-f17623469574",
   "metadata": {},
   "source": [
    "We model the structure of government as a network. In this network, the nodes are the government organisations (departments). We will experiment with connecting two government agencies with an edge if they have at least one service each that falls under the same topic (e.g., Benefits) or at least one shared verb (e.g., Apply). \n",
    "\n",
    "The edge creation process reflects the extent to which two organisations are intrinscially linked. If such a link is present it reflects the fact that two organisations offer similar services and carry out similar functions. The overall structure reveals all the domains of government services and the type of work they do. "
   ]
  }
 ],
 "metadata": {
  "kernelspec": {
   "display_name": "Python 3 (ipykernel)",
   "language": "python",
   "name": "python3"
  },
  "language_info": {
   "codemirror_mode": {
    "name": "ipython",
    "version": 3
   },
   "file_extension": ".py",
   "mimetype": "text/x-python",
   "name": "python",
   "nbconvert_exporter": "python",
   "pygments_lexer": "ipython3",
   "version": "3.9.12"
  }
 },
 "nbformat": 4,
 "nbformat_minor": 5
}
