{
 "cells": [
  {
   "cell_type": "markdown",
   "id": "694dbd03-41fa-412d-9d9b-cb718c179a3d",
   "metadata": {},
   "source": [
    "## Imports"
   ]
  },
  {
   "cell_type": "code",
   "execution_count": 1,
   "id": "d4d1700a-4794-46a3-a452-3614ec54b643",
   "metadata": {
    "tags": []
   },
   "outputs": [],
   "source": [
    "from pathlib import Path\n",
    "import pandas as pd\n",
    "import seaborn as sns\n",
    "import matplotlib.pyplot as plt\n",
    "from matplotlib import rcParams"
   ]
  },
  {
   "cell_type": "markdown",
   "id": "dc48df6c-e7db-4c4f-99bd-0f2cff333dae",
   "metadata": {},
   "source": [
    "## Table 1A"
   ]
  },
  {
   "cell_type": "code",
   "execution_count": 85,
   "id": "f95b01ba-fead-409c-af2c-ff0c4b2e28f2",
   "metadata": {},
   "outputs": [],
   "source": [
    "d = analysis_df.loc[analysis_df['historical_service_equiv'].notnull()]"
   ]
  },
  {
   "cell_type": "code",
   "execution_count": 89,
   "id": "4ed4e33e-94f5-46f8-8b8a-d9409d2b9c3a",
   "metadata": {},
   "outputs": [
    {
     "data": {
      "text/plain": [
       "337"
      ]
     },
     "execution_count": 89,
     "metadata": {},
     "output_type": "execute_result"
    }
   ],
   "source": [
    "analysis_df.unique_clicks_2022.notnull().sum()"
   ]
  },
  {
   "cell_type": "code",
   "execution_count": null,
   "id": "c3f6eb2c-43a9-47eb-8802-84b831a228c7",
   "metadata": {},
   "outputs": [],
   "source": [
    "# Load dataframe\n",
    "analysis_df = pd.read_excel('../data/processed/202308-services-list-processed.xlsx')\n",
    "\n",
    "# Set style and context\n",
    "sns.set(style=\"ticks\")\n",
    "sns.set_context(\"notebook\", rc={\"axes.labelsize\": 17, \"xtick.labelsize\": 17, \"ytick.labelsize\": 17})\n",
    "\n",
    "# Create a new DataFrame table_df with 10 rows and empty strings\n",
    "table_df = pd.DataFrame({'Organisation': [''] * 10, 'Topic': [''] * 10, 'Service type': [''] * 10})\n",
    "\n",
    "# Step 2: Fill the rows of the column 'Organisation'\n",
    "organisations_counts = analysis_df['organisation'].value_counts().head(10)\n",
    "table_df['Organisation'][:len(organisations_counts)] = (\n",
    "    organisations_counts.index + \" (n=\" + organisations_counts.astype(str) + \")\"\n",
    ")\n",
    "\n",
    "# Step 3: Fill the rows of the column 'Topic'\n",
    "topics_counts = analysis_df['topic'].value_counts().head(10)\n",
    "table_df['Topic'][:len(topics_counts)] = (\n",
    "    topics_counts.index + \" (n=\" + topics_counts.astype(str) + \")\"\n",
    ")\n",
    "\n",
    "# Step 4: Fill the rows of the column 'Service type'\n",
    "service_types_counts = analysis_df['service_type'].value_counts().head(10)\n",
    "table_df['Service type'][:len(service_types_counts)] = (\n",
    "    service_types_counts.index + \" (n=\" + service_types_counts.astype(str) + \")\"\n",
    ")\n",
    "\n",
    "from tabulate import tabulate\n",
    "\n",
    "# If you want to print with adjusted formatting, you can use the following code:\n",
    "latex_table = tabulate(table_df, headers='keys', tablefmt='latex_raw', showindex=False, colalign=('l', 'c', 'l'), stralign='left', numalign='center')\n",
    "\n",
    "# Add the adjustments to the LaTeX table\n",
    "latex_table_adjusted = \"\\\\begin{table}[h]\\n\\\\centering\\n\\\\renewcommand{\\\\arraystretch}{1.2} % Adjust row spacing\\n\\\\resizebox{\\\\textwidth}{!}{\\n\\\\begin{tabular}{lcl}\\n\" + latex_table + \"\\n\\\\end{tabular}\\n}\\n\\\\end{table}\"\n",
    "\n",
    "# Print the LaTeX table with adjusted formatting\n",
    "print(latex_table_adjusted)"
   ]
  },
  {
   "cell_type": "markdown",
   "id": "8513894f-4a7f-4885-afae-0623355e67a6",
   "metadata": {},
   "source": [
    "## Table S1A"
   ]
  },
  {
   "cell_type": "code",
   "execution_count": null,
   "id": "f0e45850-8c1e-464a-a469-14578823b638",
   "metadata": {},
   "outputs": [],
   "source": [
    "# Load dataframe\n",
    "analysis_df = pd.read_excel('../data/processed/202308-services-list-processed.xlsx')\n",
    "\n",
    "# Set style and context\n",
    "sns.set(style=\"ticks\")\n",
    "sns.set_context(\"notebook\", rc={\"axes.labelsize\": 17, \"xtick.labelsize\": 17, \"ytick.labelsize\": 17})\n",
    "\n",
    "# Create a new DataFrame table_df with 10 rows and empty strings\n",
    "table_s_df = pd.DataFrame({'Organisation': [''] * 58, 'Topic': [''] * 58, 'Service type': [''] * 58})\n",
    "\n",
    "# Step 2: Fill the rows of the column 'Organisation'\n",
    "organisations_counts = analysis_df['organisation'].value_counts()\n",
    "table_s_df['Organisation'][:len(organisations_counts)] = (\n",
    "    organisations_counts.index + \" (n=\" + organisations_counts.astype(str) + \")\"\n",
    ")\n",
    "\n",
    "# Step 3: Fill the rows of the column 'Topic'\n",
    "topics_counts = analysis_df['topic'].value_counts()\n",
    "table_s_df['Topic'][:len(topics_counts)] = (\n",
    "    topics_counts.index + \" (n=\" + topics_counts.astype(str) + \")\"\n",
    ")\n",
    "\n",
    "# Step 4: Fill the rows of the column 'Service type'\n",
    "service_types_counts = analysis_df['service_type'].value_counts()\n",
    "table_s_df['Service type'][:len(service_types_counts)] = (\n",
    "    service_types_counts.index + \" (n=\" + service_types_counts.astype(str) + \")\"\n",
    ")\n",
    "\n",
    "# If you want to print with adjusted formatting, you can use the following code:\n",
    "latex_table = tabulate(table_s_df, headers='keys', tablefmt='latex_raw', showindex=False, colalign=('l', 'c', 'l'), stralign='left', numalign='center')\n",
    "\n",
    "# Add the adjustments to the LaTeX table\n",
    "latex_table_adjusted = \"\\\\begin{table}[h]\\n\\\\centering\\n\\\\renewcommand{\\\\arraystretch}{1.2} % Adjust row spacing\\n\\\\resizebox{\\\\textwidth}{!}{\\n\\\\begin{tabular}{lcl}\\n\" + latex_table + \"\\n\\\\end{tabular}\\n}\\n\\\\end{table}\"\n",
    "\n",
    "# Print the LaTeX table with adjusted formatting\n",
    "print(latex_table_adjusted)"
   ]
  }
 ],
 "metadata": {
  "kernelspec": {
   "display_name": "Python 3 (ipykernel)",
   "language": "python",
   "name": "python3"
  },
  "language_info": {
   "codemirror_mode": {
    "name": "ipython",
    "version": 3
   },
   "file_extension": ".py",
   "mimetype": "text/x-python",
   "name": "python",
   "nbconvert_exporter": "python",
   "pygments_lexer": "ipython3",
   "version": "3.11.5"
  }
 },
 "nbformat": 4,
 "nbformat_minor": 5
}
