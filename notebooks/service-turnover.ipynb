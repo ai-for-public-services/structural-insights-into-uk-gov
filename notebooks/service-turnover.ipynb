{
 "cells": [
  {
   "cell_type": "code",
   "execution_count": 11,
   "metadata": {},
   "outputs": [
    {
     "name": "stdout",
     "output_type": "stream",
     "text": [
      "(458, 48)\n",
      "Index(['Unnamed: 0', 'Abbr', 'Organisation', 'Body', 'service', 'Servicetype',\n",
      "       'URL', 'Servicedesc', 'Customertype', 'Businesmodel', 'Comments',\n",
      "       '201212', '201212digital', '201303', '201303digital', '201306',\n",
      "       '201306digital', '201309', '201309digital', '201312', '201312digital',\n",
      "       '201403', '201403digital', '201406', '201406digital', '201409',\n",
      "       '201409digital', '201412', '201412digital', '201503', '201503digital',\n",
      "       '201506', '201506digital', '201509', '201509digital', '201512',\n",
      "       '201512digital', '201603', '201603digital', '201606', '201606digital',\n",
      "       '201609', '201609digital', '201612', '201612digital', '201703',\n",
      "       '201703digital', 'max_observed'],\n",
      "      dtype='object')\n"
     ]
    }
   ],
   "source": [
    "import pandas as pd\n",
    "transactions = pd.read_csv('../data/processed/201204-201703-service-transactions-processed.csv')\n",
    "print(transactions.shape)\n",
    "print(transactions.columns)"
   ]
  },
  {
   "cell_type": "code",
   "execution_count": 18,
   "metadata": {},
   "outputs": [],
   "source": [
    "#these are the columns we want to scan\n",
    "#ignoring the digital columns\n",
    "quarters = ['201212', '201303', '201306',\n",
    "       '201309', '201312', '201403', '201406', '201409',\n",
    "       '201412', '201503',\n",
    "       '201506', '201509', '201512',\n",
    "       '201603', '201606', '201609', '201612', '201703']"
   ]
  },
  {
   "cell_type": "code",
   "execution_count": 20,
   "metadata": {},
   "outputs": [
    {
     "name": "stdout",
     "output_type": "stream",
     "text": [
      "   quarter  this_quarter_services  created_services  destroyed_services\n",
      "0   201212                    238               238                   0\n",
      "1   201303                    199                10                  49\n",
      "2   201306                    240                91                  50\n",
      "3   201309                    361               134                  13\n",
      "4   201312                    392                38                   7\n",
      "5   201403                    386                10                  16\n",
      "6   201406                    397                31                  20\n",
      "7   201409                    384                13                  26\n",
      "8   201412                    378                 8                  14\n",
      "9   201503                    365                14                  27\n",
      "10  201506                    360                11                  16\n",
      "11  201509                    340                 7                  27\n",
      "12  201512                    347                16                   9\n",
      "13  201603                    336                14                  25\n",
      "14  201606                    332                18                  22\n",
      "15  201609                    293                 2                  41\n",
      "16  201612                    292                 8                   9\n",
      "17  201703                    291                 7                   8\n"
     ]
    }
   ],
   "source": [
    "#for each column, count number of services with non na\n",
    "rows = []\n",
    "\n",
    "#first quarter won't have anything to compare to\n",
    "last_quarter_services = []\n",
    "for quarter in quarters:\n",
    "    #how many are not NA each quarter\n",
    "    #total_services = 458 - sum(pd.isna(transactions[quarter]))\n",
    "    this_quarter_services = list(transactions[pd.isna(transactions[quarter])==False]['service'])\n",
    "    created_services = [s for s in this_quarter_services if not s in last_quarter_services]\n",
    "    destroyed_services = [s for s in last_quarter_services if not s in this_quarter_services]\n",
    "    \n",
    "    row = {\n",
    "        'quarter' : quarter,\n",
    "        'this_quarter_services' : len(this_quarter_services),\n",
    "        'created_services' : len(created_services),\n",
    "        'destroyed_services' : len(destroyed_services)\n",
    "    }\n",
    "    rows.append(row)\n",
    "\n",
    "    last_quarter_services = this_quarter_services\n",
    "\n",
    "\n",
    "df = pd.DataFrame(rows)\n",
    "\n",
    "print(df)\n",
    "    \n"
   ]
  }
 ],
 "metadata": {
  "kernelspec": {
   "display_name": "Python 3",
   "language": "python",
   "name": "python3"
  },
  "language_info": {
   "codemirror_mode": {
    "name": "ipython",
    "version": 3
   },
   "file_extension": ".py",
   "mimetype": "text/x-python",
   "name": "python",
   "nbconvert_exporter": "python",
   "pygments_lexer": "ipython3",
   "version": "3.10.2"
  }
 },
 "nbformat": 4,
 "nbformat_minor": 2
}
