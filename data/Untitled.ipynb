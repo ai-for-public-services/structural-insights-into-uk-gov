{
 "cells": [
  {
   "cell_type": "code",
   "execution_count": 1,
   "id": "b093b1d7-8de7-402a-b41f-854c16b4cf70",
   "metadata": {},
   "outputs": [],
   "source": [
    "import pandas as pd"
   ]
  },
  {
   "cell_type": "code",
   "execution_count": 58,
   "id": "3d76e7b2-5063-4e32-b809-3c8d4265a4a7",
   "metadata": {},
   "outputs": [],
   "source": [
    "SOC2020_df = pd.read_excel('SOC-mapping-to-ISCO-processed.xlsx')\n",
    "\n",
    "SOC_ISCO08_codes = SOC2020_df['ISCO-08 code based on SOC2020'].unique()"
   ]
  },
  {
   "cell_type": "code",
   "execution_count": 70,
   "id": "31685780-ccfa-488d-a735-e668f6f33a75",
   "metadata": {},
   "outputs": [
    {
     "name": "stdout",
     "output_type": "stream",
     "text": [
      "unique industry identifiers:\n",
      " ['Cabinet Office' 'Dept for International Development' 'Jobcentre Plus'\n",
      " 'government' 'local government' 'Home Office' 'probation service'\n",
      " 'HM Land Registry' 'police service' 'welfare services'\n",
      " 'Foreign and Commonwealth Office' 'local government: social services'\n",
      " 'courts of justice' 'hospital service' 'Ministry of Justice'\n",
      " 'Inland Revenue' 'HM Passport Office' 'HM Revenue and Customs'\n",
      " 'health authority' 'prison service' 'housing, welfare' 'DCMS'\n",
      " 'government: Planning Inspectorate' 'HMICFRS'\n",
      " 'local government: youth services' 'UK Visas and Immigration'\n",
      " 'court service' 'MOD' 'local government: housing dept' 'housing services'\n",
      " 'Dept of Health & Social Care' 'DEFRA']\n"
     ]
    }
   ],
   "source": [
    "print('unique industry identifiers:\\n', SOC2020_df.IND.unique())"
   ]
  },
  {
   "cell_type": "code",
   "execution_count": 72,
   "id": "e85df0ad-78c5-482c-9fde-47bb7b110175",
   "metadata": {},
   "outputs": [
    {
     "name": "stdout",
     "output_type": "stream",
     "text": [
      "unique SOC90 unit group title:\n",
      " ['General administrators; national government (HEO to Senior Principal/Grade 6)'\n",
      " 'Civil Service administrative officers and assistants'\n",
      " 'Local government clerical officers and assistants'\n",
      " 'Local government officers (administrative and executive functions)'\n",
      " 'Legal service and related occupations'\n",
      " 'Civil Service executive officers' 'Welfare, community and youth workers'\n",
      " 'General administrators; national government (Assistant Secretary/Grade 5 and above)'\n",
      " 'Customs and excise officers, immigration officers (customs: below chief preventive officer; excise: below surveyor)'\n",
      " 'Taxation experts'\n",
      " 'Customs and excise, immigration service officers (customs:  chief preventive officer and above; excise:  surveyor and above)'\n",
      " 'Social workers, probation officers']\n"
     ]
    }
   ],
   "source": [
    "print('unique SOC90 unit group title:\\n', SOC2020_df['SOC90 unit group title'].unique())"
   ]
  },
  {
   "cell_type": "code",
   "execution_count": 75,
   "id": "050c77e1-0bc2-4bfd-b755-cb0891919ca3",
   "metadata": {},
   "outputs": [
    {
     "name": "stdout",
     "output_type": "stream",
     "text": [
      "unique ISCO08 unit group title\t:\n",
      " ['Policy Administration Professionals'\n",
      " 'Government Social Benefits Officials' 'General Office Clerks'\n",
      " 'Legal and Related Associate Professionals' 'Senior Government Officials'\n",
      " 'Social Work Associate Professionals'\n",
      " 'Administrative and Executive Secretaries'\n",
      " 'Clerical Support Workers Not Elsewhere Classified'\n",
      " 'Debt Collectors and Related Workers'\n",
      " 'Statistical, Finance and Insurance Clerks'\n",
      " 'Client Information Workers Not Elsewhere Classified'\n",
      " 'Government Tax and Excise Officials' 'Cashiers and Ticket Clerks'\n",
      " 'Policy and Planning Managers' 'Government Licensing Officials'\n",
      " 'Typists and Word Processing Operators' 'Social Welfare Managers'\n",
      " 'Government Regulatory Associate Professionals Not Elsewhere Classified'\n",
      " 'Statistical, Mathematical and Related Associate Professionals'\n",
      " 'Legislators' 'Personnel and Careers Professionals'\n",
      " 'Customs and Border Inspectors'\n",
      " 'Professional Services Managers Not Elsewhere Classified'\n",
      " 'Management and Organization Analysts'\n",
      " 'Environmental Protection Professionals'\n",
      " 'Environmental and Occupational Health Inspectors and Associates'\n",
      " 'Financial Analysts']\n"
     ]
    }
   ],
   "source": [
    "print('unique ISCO08 unit group title\t:\\n', SOC2020_df['ISCO08 unit group title'].unique())"
   ]
  },
  {
   "cell_type": "code",
   "execution_count": 79,
   "id": "68a46f21-4002-4321-87bd-096a337f60ed",
   "metadata": {},
   "outputs": [
    {
     "name": "stdout",
     "output_type": "stream",
     "text": [
      "unique ISCO08 codes:\n",
      " [2422 3353 4110 3411 1112 3412 3343 4419 4214 4312 4229 3352 5230 1213\n",
      " 3354 4131 1344 3359 3314 1111 2423 3351 1349 2421 2133 3257 2413]\n"
     ]
    }
   ],
   "source": [
    "print('unique ISCO08 codes:\\n', SOC_ISCO08_codes)"
   ]
  },
  {
   "cell_type": "code",
   "execution_count": 60,
   "id": "dd0302f0-b648-4ec9-aa3d-b192aecb0579",
   "metadata": {},
   "outputs": [],
   "source": [
    "ISCO_df = pd.read_excel('ISCO-task-statements-processed.xlsx')"
   ]
  },
  {
   "cell_type": "code",
   "execution_count": 80,
   "id": "fc2878d5-73c9-402d-9339-7ee56e162c8c",
   "metadata": {},
   "outputs": [],
   "source": [
    "ISCO_df.loc[ISCO_df['ISCO 08 Code'].isin(SOC_ISCO08_codes)].to_excel(\"output.xlsx\")"
   ]
  }
 ],
 "metadata": {
  "kernelspec": {
   "display_name": "Python 3 (ipykernel)",
   "language": "python",
   "name": "python3"
  },
  "language_info": {
   "codemirror_mode": {
    "name": "ipython",
    "version": 3
   },
   "file_extension": ".py",
   "mimetype": "text/x-python",
   "name": "python",
   "nbconvert_exporter": "python",
   "pygments_lexer": "ipython3",
   "version": "3.9.12"
  }
 },
 "nbformat": 4,
 "nbformat_minor": 5
}
